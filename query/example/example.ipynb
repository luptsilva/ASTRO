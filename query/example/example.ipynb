{
 "cells": [
  {
   "cell_type": "markdown",
   "metadata": {},
   "source": [
    "# Query HyperLEDA (query.hyperleda)\n",
    "---------\n",
    "(NB: I'm making this module available for an early use, while waiting for PR review <a href=\"https://github.com/astropy/astroquery/pull/2023\">2023</a> to <a href=\"https://github.com/astropy/astroquery\">astroquery</a>).\n",
    "\n",
    "---------\n",
    "## Brief description\n",
    "\n",
    "This module can be used to query from the <a href=\"http://leda.univ-lyon1.fr/\">HyperLEDA</a> web service. \n",
    "The queries will return the results<br>in an astropy <a href=\"https://docs.astropy.org/en/stable/api/astropy.table.Table.html#astropy.table.Table\">Table</a>. Below are two working examples illustrating how to retrieve data for a single object,<br>or using an SQL query request to the <a href=\"http://leda.univ-lyon1.fr/fullsql.html\">HyperLEDA SQL data access service</a>.\n",
    "\n",
    "# Examples\n",
    "-------\n",
    "\n",
    "## Query an object\n",
    "\n",
    "Query the object by name. For instance if you want to query UGC 1259\n"
   ]
  },
  {
   "cell_type": "code",
   "execution_count": 1,
   "metadata": {},
   "outputs": [
    {
     "name": "stdout",
     "output_type": "stream",
     "text": [
      " pgc  objname  objtype ...   celposB(pgc)     celposJ(pgc)  \n",
      "----- -------- ------- ... ---------------- ----------------\n",
      "71392 UGC12591       G ... B232253.7+281313 J232521.9+282943\n"
     ]
    }
   ],
   "source": [
    "import os\n",
    "import sys\n",
    "\n",
    "sys.path.insert(0, os.path.abspath('../'))\n",
    "\n",
    "from query import hyperleda\n",
    "\n",
    "result_table = hyperleda.query_object('UGC12591' , properties='all')\n",
    "print(result_table) # an astropy.table.Table\n"
   ]
  },
  {
   "cell_type": "markdown",
   "metadata": {},
   "source": [
    "-----------\n",
    "To see all available <code>properties</code> that HyperLEDA returns:"
   ]
  },
  {
   "cell_type": "code",
   "execution_count": 2,
   "metadata": {},
   "outputs": [
    {
     "name": "stdout",
     "output_type": "stream",
     "text": [
      "    field      type       units                                         description                                   \n",
      "------------- ------ --------------- ---------------------------------------------------------------------------------\n",
      "          pgc    int              --                                                                        PGC number\n",
      "      objname   char              --                                                                    Principal name\n",
      "      objtype   char              --                                             Type of object (G=galaxy; S=Star ...)\n",
      "       al1950 double            hour                                                     RA 1950 (hours decimal value)\n",
      "       de1950 double             deg                                                  DEC 1950 (degrees decimal value)\n",
      "       al2000 double            hour                                                     RA 2000 (hours decimal value)\n",
      "       de2000 double             deg                                                  DEC 2000 (degrees decimal value)\n",
      "           l2 double             deg                                                                Galactic longitude\n",
      "           b2 double             deg                                                                 Galactic latitude\n",
      "          sgl double             deg                                                           Supergalactic longitude\n",
      "          sgb double             deg                                                            Supergalactic latitude\n",
      "         type   char              --                                                                Morphological type\n",
      "          bar   char              --                                                                 Barred galaxy (B)\n",
      "         ring   char              --                                                              Galaxy with ring (R)\n",
      "     multiple   char              --                                                               Multiple galaxy (M)\n",
      "  compactness   char              --                                                        Compact (C) or diffuse (D)\n",
      "            t  float              --                                                           Morphological type code\n",
      "          e_t  float              --                                       Actual error on t (Morphological type code)\n",
      "       logd25  float log(0.1 arcmin)                                      log of apparent diameter (d25 in 0.1 arcmin)\n",
      "     e_logd25  float log(0.1 arcmin)                   Actual error on logd25 (log of apparent diameter in 0.1 arcmin)\n",
      "       logr25  float             log                                         log of axis ratio (major axis/minor axis)\n",
      "     e_logr25  float             log                 Actual error on logr25 (log of axis ratio: major axis/minor axis)\n",
      "           pa  float             deg                                       Major axis position angle (North Eastwards)\n",
      "        brief  float     mag/arcsec2                                                 Mean effective surface brightness\n",
      "      e_brief  float     mag/arcsec2                         Actual error on brief (Mean effective surface brightness)\n",
      "           bt  float             mag                                                                 Total B-magnitude\n",
      "         e_bt  float             mag                                            Actual error on bt (Total B-magnitude)\n",
      "           it  float             mag                                                                 Total I-magnitude\n",
      "         e_it  float             mag                                            Actual error on it (Total I-magnitude)\n",
      "           ut  float             mag                                                                 Total U-magnitude\n",
      "           vt  float             mag                                                                 Total V-magnitude\n",
      "          ube  float             mag                                                               Effective U-B color\n",
      "          bve  float             mag                                                               Effective B-V color\n",
      "        vmaxg  float            km/s                                         Apparent maximum rotation velocity of gas\n",
      "      e_vmaxg  float            km/s                 Actual error on vmaxg (Apparent maximum rotation velocity of gas)\n",
      "        vmaxs  float            km/s                                       Apparent maximum rotation velocity of stars\n",
      "      e_vmaxs  float            km/s               Actual error on vmaxs (Apparent maximum rotation velocity of stars)\n",
      "         vdis  float            km/s                                                       Central velocity dispersion\n",
      "       e_vdis  float            km/s                                Actual error on vdis (Central velocity dispersion)\n",
      "          m21  float             mag                                                      21-cm line flux in magnitude\n",
      "        e_m21  float             mag                                Actual error on m21 (21-cm line flux in magnitude)\n",
      "         mfir  float             mag                                                            Far infrared magnitude\n",
      "         vrad  float            km/s                          Heliocentric radial velocity (cz) from radio measurement\n",
      "       e_vrad  float            km/s   Actual error on vrad (Heliocentric radial velocity (cz) from radio measurement)\n",
      "         vopt  float            km/s                        Heliocentric radial velocity (cz) from optical measurement\n",
      "       e_vopt  float            km/s Actual error on vopt (Heliocentric radial velocity (cz) from optical measurement)\n",
      "            v  float            km/s                                            Mean Heliocentric radial velocity (cz)\n",
      "          e_v  float            km/s                             Actual error on v (Mean Heliocentric radial velocity)\n",
      "           ag  float             mag                                                     Galactic extinction in B-band\n",
      "           ai  float             mag                                  Internal extinction due to inclination in B-band\n",
      "         incl  float             deg                      Inclination between line of sight and polar axis of a galaxy\n",
      "          a21  float             mag                                                             21-cm self absorption\n",
      "        logdc  float log(0.1 arcmin)                             log of apparent corrected diameter (dc in 0.1 arcmin)\n",
      "          btc  float             mag                                              Total apparent corrected B-magnitude\n",
      "          itc  float             mag                                              Total apparent corrected I-magnitude\n",
      "         ubtc  float             mag                                                Total apparent corrected U-B color\n",
      "         bvtc  float             mag                                                Total apparent corrected B-V color\n",
      "        bri25  float     mag/arcsec2                                        Mean surface brightness within isophote 25\n",
      "         vrot  float            km/s                               Maximum rotation velocity corrected for inclination\n",
      "       e_vrot  float            km/s        Actual error on vrot (Maximum rotation velocity corrected for inclination)\n",
      "          mg2  float             mag                                                            Central Lick Mg2 index\n",
      "        e_mg2  float             mag                                     Actual error on mg2( Central Lick Mg2 index )\n",
      "      logavmm  float              --                                                                                --\n",
      "    e_logavmm  float              --                                                                                --\n",
      "         m21c  float             mag                                            Corrected 21-cm line flux in magnitude\n",
      "          hic  float             mag                                                 21-cm index btc-m21c in magnitude\n",
      "          vlg  float            km/s                              Radial velocity (cz) with respect to the Local Group\n",
      "         vgsr  float            km/s                                      Radial velocity (cz) with respect to the GSR\n",
      "         vvir  float            km/s                           Radial velocity (cz) corrected for LG infall onto Virgo\n",
      "          v3k  float            km/s                            Radial velocity (cz) with respect to the CMB radiation\n",
      "         modz  float             mag                               Cosmological distance modulus (from vvir with ΛCDM)\n",
      "         mod0  float             mag                                       Distance modulus from distance measurements\n",
      "         mabs  float             mag                                                         Absolute B-band magnitude\n",
      "      numtype   char              --                                                                                --\n",
      "         hptr   char              --                                                                                --\n",
      "     agnclass   char              --                                                             Activity class of AGN\n",
      "     f_astrom   char              --                                                      Precision flag on astrometry\n",
      "       e_mod0  float             mag                Actual error on mod0 (Distance modulus from distance measurements)\n",
      "       e_modz  float             mag          Actual error on modz (Cosmological distance modulus from vvir with ΛCDM)\n",
      "       e_mabs  float              --                                                                                --\n",
      "      modbest  float             mag                                    Best distance modulus, combining mod0 and modz\n",
      "    e_modbest  float             mag          Actual error on modbest (Best distance modulus, combining mod0 and modz)\n",
      "           kt  float             mag                                                                 Total K-magnitude\n",
      "         e_kt  float             mag                                            Actual error on kt (Total K-magnitude)\n",
      "         e_ut  float             mag                                            Actual error on ut (Total U-magnitude)\n",
      "         e_vt  float             mag                                            Actual error on vt (Total V-magnitude)\n",
      "hl_names(pgc) string              --                 Comma separated list of all the designations for the object \"pgc\"\n",
      " celposB(pgc) string              --         Return the B1950 celestial position of object \"pgc\" in sexagesimal format\n",
      " celposJ(pgc) string              --         Return the J2000 celestial position of object \"pgc\" in sexagesimal format\n"
     ]
    }
   ],
   "source": [
    "properties_tbl = hyperleda.get_properties()\n",
    "properties_tbl.pprint_all()"
   ]
  },
  {
   "cell_type": "markdown",
   "metadata": {},
   "source": [
    "_________\n",
    "\n",
    "\n",
    "Retrieve only a subset from the available <code>properties</code>:\n"
   ]
  },
  {
   "cell_type": "code",
   "execution_count": 3,
   "metadata": {},
   "outputs": [
    {
     "name": "stdout",
     "output_type": "stream",
     "text": [
      "objname  type logr25  btc     v    modbest   al2000     de2000     celposJ(pgc)  \n",
      "-------- ---- ------ ------ ------ ------- ---------- ---------- ----------------\n",
      "UGC12591 S0-a  0.354 13.174 6939.5  35.067 23.4227381 28.4951858 J232521.9+282943\n"
     ]
    }
   ],
   "source": [
    "\n",
    "result_table = hyperleda.query_object('UGC12591' , properties='objname, type,\\\n",
    "                                      logr25, btc, v, modbest, al2000, de2000,\\\n",
    "                                      celposJ(pgc)')\n",
    "result_table.pprint_all()"
   ]
  },
  {
   "cell_type": "markdown",
   "metadata": {},
   "source": [
    "----------\n",
    "## Query using SQL syntax\n",
    "\n",
    "An example for querying using SQL WHERE clause syntax as in <a href=\"http://leda.univ-lyon1.fr/fullsql.html\">HyperLEDA (http://leda.univ-lyon1.fr/fullsql.html)</a>.<br>"
   ]
  },
  {
   "cell_type": "code",
   "execution_count": 4,
   "metadata": {},
   "outputs": [],
   "source": [
    "# The SQL sample_query is the WHERE clause is to filter by properties\n",
    "sample_query = \"(modbest<=30 and t>=-3 and t<=0 and type='S0') \\\n",
    "or (modbest<=30 and t>=-3 and t<=0 and type='S0-a')\"\n",
    "\n",
    "# Select some properties to retrieve\n",
    "sample_properties= 'objname, al2000, de2000, type, logr25, btc, e_bt, v, modbest'\n",
    "\n",
    "# Run the query\n",
    "result_table = hyperleda.query_sql(sample_query, properties=sample_properties)"
   ]
  },
  {
   "cell_type": "code",
   "execution_count": 5,
   "metadata": {},
   "outputs": [
    {
     "name": "stdout",
     "output_type": "stream",
     "text": [
      " objname     al2000     de2000   type logr25  btc    e_bt   v   modbest\n",
      "---------- ---------- ---------- ---- ------ ------ ----- ----- -------\n",
      "   NGC4488 12.5142721  8.3600991 S0-a  0.562  12.65 0.103 980.1  29.775\n",
      "   NGC4659    12.7415 13.4985547 S0-a   0.15 12.787 0.035 464.1   29.81\n",
      "       ...        ...        ...  ...    ...    ...   ...   ...     ...\n",
      "PGC1420152 11.3733367 12.9795655   S0  0.048 16.654   0.5 564.1  29.942\n",
      "   NGC5455 14.0503204 54.2414569   S0   0.11 15.175   0.5 259.9   29.67\n",
      "Length = 19 rows\n"
     ]
    }
   ],
   "source": [
    "result_table.pprint(max_lines=5, max_width=-1)"
   ]
  },
  {
   "cell_type": "code",
   "execution_count": null,
   "metadata": {},
   "outputs": [],
   "source": []
  }
 ],
 "metadata": {
  "kernelspec": {
   "display_name": "Python 3",
   "language": "python",
   "name": "python3"
  },
  "language_info": {
   "codemirror_mode": {
    "name": "ipython",
    "version": 3
   },
   "file_extension": ".py",
   "mimetype": "text/x-python",
   "name": "python",
   "nbconvert_exporter": "python",
   "pygments_lexer": "ipython3",
   "version": "3.7.10"
  },
  "widgets": {
   "application/vnd.jupyter.widget-state+json": {
    "state": {},
    "version_major": 2,
    "version_minor": 0
   }
  }
 },
 "nbformat": 4,
 "nbformat_minor": 4
}
